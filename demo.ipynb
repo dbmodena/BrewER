{
 "cells": [
  {
   "cell_type": "markdown",
   "id": "e5aa6b44-6ed0-46da-b843-8d3f111e7929",
   "metadata": {
    "tags": []
   },
   "source": [
    "# BrewER: Entity Resolution On-Demand"
   ]
  },
  {
   "cell_type": "code",
   "execution_count": 3,
   "id": "7ab23418-e19e-47b7-8c28-21b30b4f062c",
   "metadata": {},
   "outputs": [],
   "source": [
    "import brewer"
   ]
  },
  {
   "cell_type": "code",
   "execution_count": null,
   "id": "577aa463-6295-4905-b17b-b25982fb2ae6",
   "metadata": {
    "jupyter": {
     "source_hidden": true
    },
    "tags": []
   },
   "outputs": [
    {
     "data": {
      "application/vnd.jupyter.widget-view+json": {
       "model_id": "3f47aee70ae741579ae89378933e52d0",
       "version_major": 2,
       "version_minor": 0
      },
      "text/plain": [
       "Textarea(value=\"SELECT TOP 3 VOTE(NAME), VOTE(BRAND), VOTE(SIZE), AVG(PRICE)\\nFROM ALTOSIGHT_USB_STICKS_SMALL\\…"
      ]
     },
     "metadata": {},
     "output_type": "display_data"
    },
    {
     "data": {
      "application/vnd.jupyter.widget-view+json": {
       "model_id": "eab06eebffc44e0fbbf92cbbf67c1010",
       "version_major": 2,
       "version_minor": 0
      },
      "text/plain": [
       "HBox(children=(Button(description='Run', style=ButtonStyle(button_color='springgreen', font_weight='bold')), B…"
      ]
     },
     "metadata": {},
     "output_type": "display_data"
    },
    {
     "data": {
      "application/vnd.jupyter.widget-view+json": {
       "model_id": "ba5026bb5b9442e5a653725e184d0a87",
       "version_major": 2,
       "version_minor": 0
      },
      "text/plain": [
       "Output()"
      ]
     },
     "metadata": {},
     "output_type": "display_data"
    }
   ],
   "source": [
    "import pandas as pd\n",
    "import warnings\n",
    "pd.set_option(\"display.max_rows\", None)\n",
    "warnings.filterwarnings(\"ignore\")\n",
    "\n",
    "display(brewer.sql_query)\n",
    "display(brewer.buttons)\n",
    "display(brewer.output)"
   ]
  },
  {
   "cell_type": "code",
   "execution_count": null,
   "id": "47a30c17-b014-4fab-89f4-6156450e2a65",
   "metadata": {},
   "outputs": [],
   "source": []
  }
 ],
 "metadata": {
  "kernelspec": {
   "display_name": "Python 3 (ipykernel)",
   "language": "python",
   "name": "python3"
  },
  "language_info": {
   "codemirror_mode": {
    "name": "ipython",
    "version": 3
   },
   "file_extension": ".py",
   "mimetype": "text/x-python",
   "name": "python",
   "nbconvert_exporter": "python",
   "pygments_lexer": "ipython3",
   "version": "3.9.12"
  }
 },
 "nbformat": 4,
 "nbformat_minor": 5
}
